{
 "cells": [
  {
   "cell_type": "code",
   "execution_count": 1,
   "id": "afa8c8cb",
   "metadata": {
    "execution": {
     "iopub.execute_input": "2024-07-29T18:12:49.231378Z",
     "iopub.status.busy": "2024-07-29T18:12:49.230948Z",
     "iopub.status.idle": "2024-07-29T18:12:49.237974Z",
     "shell.execute_reply": "2024-07-29T18:12:49.236598Z"
    },
    "papermill": {
     "duration": 0.018447,
     "end_time": "2024-07-29T18:12:49.241045",
     "exception": false,
     "start_time": "2024-07-29T18:12:49.222598",
     "status": "completed"
    },
    "tags": []
   },
   "outputs": [],
   "source": [
    "# install library if not installed before\n",
    "# !pip install scikit-learn\n",
    "# !pip install nltk"
   ]
  },
  {
   "cell_type": "code",
   "execution_count": 2,
   "id": "df6ad539",
   "metadata": {
    "execution": {
     "iopub.execute_input": "2024-07-29T18:12:49.255751Z",
     "iopub.status.busy": "2024-07-29T18:12:49.255318Z",
     "iopub.status.idle": "2024-07-29T18:12:53.256562Z",
     "shell.execute_reply": "2024-07-29T18:12:53.255260Z"
    },
    "papermill": {
     "duration": 4.012071,
     "end_time": "2024-07-29T18:12:53.259753",
     "exception": false,
     "start_time": "2024-07-29T18:12:49.247682",
     "status": "completed"
    },
    "tags": []
   },
   "outputs": [],
   "source": [
    "from sklearn.svm import SVC\n",
    "from sklearn.ensemble import RandomForestClassifier\n",
    "from sklearn.model_selection import train_test_split\n",
    "import nltk \n",
    "import re\n",
    "import numpy as np\n",
    "import pandas as pd \n",
    "import matplotlib.pyplot as plt\n",
    "import seaborn as sns\n",
    "from nltk.corpus import stopwords\n",
    "from nltk.tokenize import word_tokenize\n",
    "from sklearn.feature_extraction.text import TfidfVectorizer\n",
    "from sklearn.metrics import  accuracy_score\n",
    "\n"
   ]
  },
  {
   "cell_type": "code",
   "execution_count": 3,
   "id": "118253d1",
   "metadata": {
    "execution": {
     "iopub.execute_input": "2024-07-29T18:12:53.274149Z",
     "iopub.status.busy": "2024-07-29T18:12:53.273603Z",
     "iopub.status.idle": "2024-07-29T18:12:54.578752Z",
     "shell.execute_reply": "2024-07-29T18:12:54.577403Z"
    },
    "papermill": {
     "duration": 1.315597,
     "end_time": "2024-07-29T18:12:54.581693",
     "exception": false,
     "start_time": "2024-07-29T18:12:53.266096",
     "status": "completed"
    },
    "tags": []
   },
   "outputs": [],
   "source": [
    "train_data_path=r\"/kaggle/input/genre-classification-dataset-imdb/Genre Classification Dataset/train_data.txt\"\n",
    "train_data=pd.read_csv(train_data_path,sep=\":::\",names=[\"Movie_name\",\"Gener\",\"Description\"],engine=\"python\")"
   ]
  },
  {
   "cell_type": "code",
   "execution_count": 4,
   "id": "7dc86d65",
   "metadata": {
    "execution": {
     "iopub.execute_input": "2024-07-29T18:12:54.598171Z",
     "iopub.status.busy": "2024-07-29T18:12:54.597706Z",
     "iopub.status.idle": "2024-07-29T18:12:54.622125Z",
     "shell.execute_reply": "2024-07-29T18:12:54.620776Z"
    },
    "papermill": {
     "duration": 0.035296,
     "end_time": "2024-07-29T18:12:54.624826",
     "exception": false,
     "start_time": "2024-07-29T18:12:54.589530",
     "status": "completed"
    },
    "tags": []
   },
   "outputs": [
    {
     "data": {
      "text/html": [
       "<div>\n",
       "<style scoped>\n",
       "    .dataframe tbody tr th:only-of-type {\n",
       "        vertical-align: middle;\n",
       "    }\n",
       "\n",
       "    .dataframe tbody tr th {\n",
       "        vertical-align: top;\n",
       "    }\n",
       "\n",
       "    .dataframe thead th {\n",
       "        text-align: right;\n",
       "    }\n",
       "</style>\n",
       "<table border=\"1\" class=\"dataframe\">\n",
       "  <thead>\n",
       "    <tr style=\"text-align: right;\">\n",
       "      <th></th>\n",
       "      <th>Movie_name</th>\n",
       "      <th>Gener</th>\n",
       "      <th>Description</th>\n",
       "    </tr>\n",
       "  </thead>\n",
       "  <tbody>\n",
       "    <tr>\n",
       "      <th>1</th>\n",
       "      <td>Oscar et la dame rose (2009)</td>\n",
       "      <td>drama</td>\n",
       "      <td>Listening in to a conversation between his do...</td>\n",
       "    </tr>\n",
       "    <tr>\n",
       "      <th>2</th>\n",
       "      <td>Cupid (1997)</td>\n",
       "      <td>thriller</td>\n",
       "      <td>A brother and sister with a past incestuous r...</td>\n",
       "    </tr>\n",
       "    <tr>\n",
       "      <th>3</th>\n",
       "      <td>Young, Wild and Wonderful (1980)</td>\n",
       "      <td>adult</td>\n",
       "      <td>As the bus empties the students for their fie...</td>\n",
       "    </tr>\n",
       "    <tr>\n",
       "      <th>4</th>\n",
       "      <td>The Secret Sin (1915)</td>\n",
       "      <td>drama</td>\n",
       "      <td>To help their unemployed father make ends mee...</td>\n",
       "    </tr>\n",
       "    <tr>\n",
       "      <th>5</th>\n",
       "      <td>The Unrecovered (2007)</td>\n",
       "      <td>drama</td>\n",
       "      <td>The film's title refers not only to the un-re...</td>\n",
       "    </tr>\n",
       "    <tr>\n",
       "      <th>6</th>\n",
       "      <td>Quality Control (2011)</td>\n",
       "      <td>documentary</td>\n",
       "      <td>Quality Control consists of a series of 16mm ...</td>\n",
       "    </tr>\n",
       "    <tr>\n",
       "      <th>7</th>\n",
       "      <td>\"Pink Slip\" (2009)</td>\n",
       "      <td>comedy</td>\n",
       "      <td>In tough economic times Max and Joey have all...</td>\n",
       "    </tr>\n",
       "    <tr>\n",
       "      <th>8</th>\n",
       "      <td>One Step Away (1985)</td>\n",
       "      <td>crime</td>\n",
       "      <td>Ron Petrie (Keanu Reeves) is a troubled teen ...</td>\n",
       "    </tr>\n",
       "    <tr>\n",
       "      <th>9</th>\n",
       "      <td>\"Desperate Hours\" (2016)</td>\n",
       "      <td>reality-tv</td>\n",
       "      <td>A sudden calamitous event, causing great loss...</td>\n",
       "    </tr>\n",
       "    <tr>\n",
       "      <th>10</th>\n",
       "      <td>Spirits (2014/I)</td>\n",
       "      <td>horror</td>\n",
       "      <td>Four high school students embark on a terrify...</td>\n",
       "    </tr>\n",
       "  </tbody>\n",
       "</table>\n",
       "</div>"
      ],
      "text/plain": [
       "                            Movie_name          Gener  \\\n",
       "1        Oscar et la dame rose (2009)          drama    \n",
       "2                        Cupid (1997)       thriller    \n",
       "3    Young, Wild and Wonderful (1980)          adult    \n",
       "4               The Secret Sin (1915)          drama    \n",
       "5              The Unrecovered (2007)          drama    \n",
       "6              Quality Control (2011)    documentary    \n",
       "7                  \"Pink Slip\" (2009)         comedy    \n",
       "8                One Step Away (1985)          crime    \n",
       "9            \"Desperate Hours\" (2016)     reality-tv    \n",
       "10                   Spirits (2014/I)         horror    \n",
       "\n",
       "                                          Description  \n",
       "1    Listening in to a conversation between his do...  \n",
       "2    A brother and sister with a past incestuous r...  \n",
       "3    As the bus empties the students for their fie...  \n",
       "4    To help their unemployed father make ends mee...  \n",
       "5    The film's title refers not only to the un-re...  \n",
       "6    Quality Control consists of a series of 16mm ...  \n",
       "7    In tough economic times Max and Joey have all...  \n",
       "8    Ron Petrie (Keanu Reeves) is a troubled teen ...  \n",
       "9    A sudden calamitous event, causing great loss...  \n",
       "10   Four high school students embark on a terrify...  "
      ]
     },
     "execution_count": 4,
     "metadata": {},
     "output_type": "execute_result"
    }
   ],
   "source": [
    "train_data.head(10)"
   ]
  },
  {
   "cell_type": "code",
   "execution_count": 5,
   "id": "26d65f90",
   "metadata": {
    "execution": {
     "iopub.execute_input": "2024-07-29T18:12:54.639989Z",
     "iopub.status.busy": "2024-07-29T18:12:54.639570Z",
     "iopub.status.idle": "2024-07-29T18:12:54.670030Z",
     "shell.execute_reply": "2024-07-29T18:12:54.668789Z"
    },
    "papermill": {
     "duration": 0.041236,
     "end_time": "2024-07-29T18:12:54.672778",
     "exception": false,
     "start_time": "2024-07-29T18:12:54.631542",
     "status": "completed"
    },
    "tags": []
   },
   "outputs": [
    {
     "data": {
      "text/plain": [
       "Movie_name     0\n",
       "Gener          0\n",
       "Description    0\n",
       "dtype: int64"
      ]
     },
     "execution_count": 5,
     "metadata": {},
     "output_type": "execute_result"
    }
   ],
   "source": [
    "train_data.isnull().sum()"
   ]
  },
  {
   "cell_type": "code",
   "execution_count": 6,
   "id": "180033f6",
   "metadata": {
    "execution": {
     "iopub.execute_input": "2024-07-29T18:12:54.688398Z",
     "iopub.status.busy": "2024-07-29T18:12:54.688016Z",
     "iopub.status.idle": "2024-07-29T18:12:54.733518Z",
     "shell.execute_reply": "2024-07-29T18:12:54.732135Z"
    },
    "papermill": {
     "duration": 0.056386,
     "end_time": "2024-07-29T18:12:54.736117",
     "exception": false,
     "start_time": "2024-07-29T18:12:54.679731",
     "status": "completed"
    },
    "tags": []
   },
   "outputs": [
    {
     "name": "stdout",
     "output_type": "stream",
     "text": [
      "<class 'pandas.core.frame.DataFrame'>\n",
      "Index: 54214 entries, 1 to 54214\n",
      "Data columns (total 3 columns):\n",
      " #   Column       Non-Null Count  Dtype \n",
      "---  ------       --------------  ----- \n",
      " 0   Movie_name   54214 non-null  object\n",
      " 1   Gener        54214 non-null  object\n",
      " 2   Description  54214 non-null  object\n",
      "dtypes: object(3)\n",
      "memory usage: 1.7+ MB\n"
     ]
    }
   ],
   "source": [
    "train_data.info()"
   ]
  },
  {
   "cell_type": "code",
   "execution_count": 7,
   "id": "bfa57f8f",
   "metadata": {
    "execution": {
     "iopub.execute_input": "2024-07-29T18:12:54.752073Z",
     "iopub.status.busy": "2024-07-29T18:12:54.751619Z",
     "iopub.status.idle": "2024-07-29T18:12:54.906502Z",
     "shell.execute_reply": "2024-07-29T18:12:54.905156Z"
    },
    "papermill": {
     "duration": 0.166176,
     "end_time": "2024-07-29T18:12:54.909400",
     "exception": false,
     "start_time": "2024-07-29T18:12:54.743224",
     "status": "completed"
    },
    "tags": []
   },
   "outputs": [
    {
     "data": {
      "text/html": [
       "<div>\n",
       "<style scoped>\n",
       "    .dataframe tbody tr th:only-of-type {\n",
       "        vertical-align: middle;\n",
       "    }\n",
       "\n",
       "    .dataframe tbody tr th {\n",
       "        vertical-align: top;\n",
       "    }\n",
       "\n",
       "    .dataframe thead th {\n",
       "        text-align: right;\n",
       "    }\n",
       "</style>\n",
       "<table border=\"1\" class=\"dataframe\">\n",
       "  <thead>\n",
       "    <tr style=\"text-align: right;\">\n",
       "      <th></th>\n",
       "      <th>Movie_name</th>\n",
       "      <th>Gener</th>\n",
       "      <th>Description</th>\n",
       "    </tr>\n",
       "  </thead>\n",
       "  <tbody>\n",
       "    <tr>\n",
       "      <th>count</th>\n",
       "      <td>54214</td>\n",
       "      <td>54214</td>\n",
       "      <td>54214</td>\n",
       "    </tr>\n",
       "    <tr>\n",
       "      <th>unique</th>\n",
       "      <td>54214</td>\n",
       "      <td>27</td>\n",
       "      <td>54086</td>\n",
       "    </tr>\n",
       "    <tr>\n",
       "      <th>top</th>\n",
       "      <td>Oscar et la dame rose (2009)</td>\n",
       "      <td>drama</td>\n",
       "      <td>Grammy - music award of the American academy ...</td>\n",
       "    </tr>\n",
       "    <tr>\n",
       "      <th>freq</th>\n",
       "      <td>1</td>\n",
       "      <td>13613</td>\n",
       "      <td>12</td>\n",
       "    </tr>\n",
       "  </tbody>\n",
       "</table>\n",
       "</div>"
      ],
      "text/plain": [
       "                            Movie_name    Gener  \\\n",
       "count                            54214    54214   \n",
       "unique                           54214       27   \n",
       "top      Oscar et la dame rose (2009)    drama    \n",
       "freq                                 1    13613   \n",
       "\n",
       "                                              Description  \n",
       "count                                               54214  \n",
       "unique                                              54086  \n",
       "top      Grammy - music award of the American academy ...  \n",
       "freq                                                   12  "
      ]
     },
     "execution_count": 7,
     "metadata": {},
     "output_type": "execute_result"
    }
   ],
   "source": [
    "train_data.describe()"
   ]
  },
  {
   "cell_type": "code",
   "execution_count": 8,
   "id": "67cf4e61",
   "metadata": {
    "execution": {
     "iopub.execute_input": "2024-07-29T18:12:54.927819Z",
     "iopub.status.busy": "2024-07-29T18:12:54.927345Z",
     "iopub.status.idle": "2024-07-29T18:12:55.413118Z",
     "shell.execute_reply": "2024-07-29T18:12:55.411853Z"
    },
    "papermill": {
     "duration": 0.498645,
     "end_time": "2024-07-29T18:12:55.416177",
     "exception": false,
     "start_time": "2024-07-29T18:12:54.917532",
     "status": "completed"
    },
    "tags": []
   },
   "outputs": [],
   "source": [
    "test_data_path=r\"/kaggle/input/genre-classification-dataset-imdb/Genre Classification Dataset/test_data.txt\"\n",
    "test_data=pd.read_csv(train_data_path,sep=\":::\",names=[\"Movie_name\",\"Gener\",\"Description\"],engine=\"python\")"
   ]
  },
  {
   "cell_type": "code",
   "execution_count": 9,
   "id": "8b4b2e7a",
   "metadata": {
    "execution": {
     "iopub.execute_input": "2024-07-29T18:12:55.432889Z",
     "iopub.status.busy": "2024-07-29T18:12:55.432390Z",
     "iopub.status.idle": "2024-07-29T18:12:55.446004Z",
     "shell.execute_reply": "2024-07-29T18:12:55.444831Z"
    },
    "papermill": {
     "duration": 0.024992,
     "end_time": "2024-07-29T18:12:55.448556",
     "exception": false,
     "start_time": "2024-07-29T18:12:55.423564",
     "status": "completed"
    },
    "tags": []
   },
   "outputs": [
    {
     "data": {
      "text/html": [
       "<div>\n",
       "<style scoped>\n",
       "    .dataframe tbody tr th:only-of-type {\n",
       "        vertical-align: middle;\n",
       "    }\n",
       "\n",
       "    .dataframe tbody tr th {\n",
       "        vertical-align: top;\n",
       "    }\n",
       "\n",
       "    .dataframe thead th {\n",
       "        text-align: right;\n",
       "    }\n",
       "</style>\n",
       "<table border=\"1\" class=\"dataframe\">\n",
       "  <thead>\n",
       "    <tr style=\"text-align: right;\">\n",
       "      <th></th>\n",
       "      <th>Movie_name</th>\n",
       "      <th>Gener</th>\n",
       "      <th>Description</th>\n",
       "    </tr>\n",
       "  </thead>\n",
       "  <tbody>\n",
       "    <tr>\n",
       "      <th>1</th>\n",
       "      <td>Oscar et la dame rose (2009)</td>\n",
       "      <td>drama</td>\n",
       "      <td>Listening in to a conversation between his do...</td>\n",
       "    </tr>\n",
       "    <tr>\n",
       "      <th>2</th>\n",
       "      <td>Cupid (1997)</td>\n",
       "      <td>thriller</td>\n",
       "      <td>A brother and sister with a past incestuous r...</td>\n",
       "    </tr>\n",
       "    <tr>\n",
       "      <th>3</th>\n",
       "      <td>Young, Wild and Wonderful (1980)</td>\n",
       "      <td>adult</td>\n",
       "      <td>As the bus empties the students for their fie...</td>\n",
       "    </tr>\n",
       "    <tr>\n",
       "      <th>4</th>\n",
       "      <td>The Secret Sin (1915)</td>\n",
       "      <td>drama</td>\n",
       "      <td>To help their unemployed father make ends mee...</td>\n",
       "    </tr>\n",
       "    <tr>\n",
       "      <th>5</th>\n",
       "      <td>The Unrecovered (2007)</td>\n",
       "      <td>drama</td>\n",
       "      <td>The film's title refers not only to the un-re...</td>\n",
       "    </tr>\n",
       "    <tr>\n",
       "      <th>6</th>\n",
       "      <td>Quality Control (2011)</td>\n",
       "      <td>documentary</td>\n",
       "      <td>Quality Control consists of a series of 16mm ...</td>\n",
       "    </tr>\n",
       "    <tr>\n",
       "      <th>7</th>\n",
       "      <td>\"Pink Slip\" (2009)</td>\n",
       "      <td>comedy</td>\n",
       "      <td>In tough economic times Max and Joey have all...</td>\n",
       "    </tr>\n",
       "    <tr>\n",
       "      <th>8</th>\n",
       "      <td>One Step Away (1985)</td>\n",
       "      <td>crime</td>\n",
       "      <td>Ron Petrie (Keanu Reeves) is a troubled teen ...</td>\n",
       "    </tr>\n",
       "    <tr>\n",
       "      <th>9</th>\n",
       "      <td>\"Desperate Hours\" (2016)</td>\n",
       "      <td>reality-tv</td>\n",
       "      <td>A sudden calamitous event, causing great loss...</td>\n",
       "    </tr>\n",
       "    <tr>\n",
       "      <th>10</th>\n",
       "      <td>Spirits (2014/I)</td>\n",
       "      <td>horror</td>\n",
       "      <td>Four high school students embark on a terrify...</td>\n",
       "    </tr>\n",
       "  </tbody>\n",
       "</table>\n",
       "</div>"
      ],
      "text/plain": [
       "                            Movie_name          Gener  \\\n",
       "1        Oscar et la dame rose (2009)          drama    \n",
       "2                        Cupid (1997)       thriller    \n",
       "3    Young, Wild and Wonderful (1980)          adult    \n",
       "4               The Secret Sin (1915)          drama    \n",
       "5              The Unrecovered (2007)          drama    \n",
       "6              Quality Control (2011)    documentary    \n",
       "7                  \"Pink Slip\" (2009)         comedy    \n",
       "8                One Step Away (1985)          crime    \n",
       "9            \"Desperate Hours\" (2016)     reality-tv    \n",
       "10                   Spirits (2014/I)         horror    \n",
       "\n",
       "                                          Description  \n",
       "1    Listening in to a conversation between his do...  \n",
       "2    A brother and sister with a past incestuous r...  \n",
       "3    As the bus empties the students for their fie...  \n",
       "4    To help their unemployed father make ends mee...  \n",
       "5    The film's title refers not only to the un-re...  \n",
       "6    Quality Control consists of a series of 16mm ...  \n",
       "7    In tough economic times Max and Joey have all...  \n",
       "8    Ron Petrie (Keanu Reeves) is a troubled teen ...  \n",
       "9    A sudden calamitous event, causing great loss...  \n",
       "10   Four high school students embark on a terrify...  "
      ]
     },
     "execution_count": 9,
     "metadata": {},
     "output_type": "execute_result"
    }
   ],
   "source": [
    "test_data.head(10)"
   ]
  },
  {
   "cell_type": "code",
   "execution_count": 10,
   "id": "428ec49a",
   "metadata": {
    "execution": {
     "iopub.execute_input": "2024-07-29T18:12:55.466375Z",
     "iopub.status.busy": "2024-07-29T18:12:55.465946Z",
     "iopub.status.idle": "2024-07-29T18:12:55.498937Z",
     "shell.execute_reply": "2024-07-29T18:12:55.497780Z"
    },
    "papermill": {
     "duration": 0.045111,
     "end_time": "2024-07-29T18:12:55.501521",
     "exception": false,
     "start_time": "2024-07-29T18:12:55.456410",
     "status": "completed"
    },
    "tags": []
   },
   "outputs": [
    {
     "name": "stdout",
     "output_type": "stream",
     "text": [
      "<class 'pandas.core.frame.DataFrame'>\n",
      "Index: 54214 entries, 1 to 54214\n",
      "Data columns (total 3 columns):\n",
      " #   Column       Non-Null Count  Dtype \n",
      "---  ------       --------------  ----- \n",
      " 0   Movie_name   54214 non-null  object\n",
      " 1   Gener        54214 non-null  object\n",
      " 2   Description  54214 non-null  object\n",
      "dtypes: object(3)\n",
      "memory usage: 1.7+ MB\n"
     ]
    }
   ],
   "source": [
    "test_data.info()"
   ]
  },
  {
   "cell_type": "code",
   "execution_count": 11,
   "id": "2d30a5f0",
   "metadata": {
    "execution": {
     "iopub.execute_input": "2024-07-29T18:12:55.519769Z",
     "iopub.status.busy": "2024-07-29T18:12:55.519336Z",
     "iopub.status.idle": "2024-07-29T18:12:55.550213Z",
     "shell.execute_reply": "2024-07-29T18:12:55.548904Z"
    },
    "papermill": {
     "duration": 0.043123,
     "end_time": "2024-07-29T18:12:55.552879",
     "exception": false,
     "start_time": "2024-07-29T18:12:55.509756",
     "status": "completed"
    },
    "tags": []
   },
   "outputs": [
    {
     "data": {
      "text/plain": [
       "Movie_name     0\n",
       "Gener          0\n",
       "Description    0\n",
       "dtype: int64"
      ]
     },
     "execution_count": 11,
     "metadata": {},
     "output_type": "execute_result"
    }
   ],
   "source": [
    "test_data.isnull().sum()"
   ]
  },
  {
   "cell_type": "code",
   "execution_count": 12,
   "id": "22eac02f",
   "metadata": {
    "execution": {
     "iopub.execute_input": "2024-07-29T18:12:55.571832Z",
     "iopub.status.busy": "2024-07-29T18:12:55.571362Z",
     "iopub.status.idle": "2024-07-29T18:12:55.723593Z",
     "shell.execute_reply": "2024-07-29T18:12:55.722260Z"
    },
    "papermill": {
     "duration": 0.165189,
     "end_time": "2024-07-29T18:12:55.726308",
     "exception": false,
     "start_time": "2024-07-29T18:12:55.561119",
     "status": "completed"
    },
    "tags": []
   },
   "outputs": [
    {
     "data": {
      "text/html": [
       "<div>\n",
       "<style scoped>\n",
       "    .dataframe tbody tr th:only-of-type {\n",
       "        vertical-align: middle;\n",
       "    }\n",
       "\n",
       "    .dataframe tbody tr th {\n",
       "        vertical-align: top;\n",
       "    }\n",
       "\n",
       "    .dataframe thead th {\n",
       "        text-align: right;\n",
       "    }\n",
       "</style>\n",
       "<table border=\"1\" class=\"dataframe\">\n",
       "  <thead>\n",
       "    <tr style=\"text-align: right;\">\n",
       "      <th></th>\n",
       "      <th>Movie_name</th>\n",
       "      <th>Gener</th>\n",
       "      <th>Description</th>\n",
       "    </tr>\n",
       "  </thead>\n",
       "  <tbody>\n",
       "    <tr>\n",
       "      <th>count</th>\n",
       "      <td>54214</td>\n",
       "      <td>54214</td>\n",
       "      <td>54214</td>\n",
       "    </tr>\n",
       "    <tr>\n",
       "      <th>unique</th>\n",
       "      <td>54214</td>\n",
       "      <td>27</td>\n",
       "      <td>54086</td>\n",
       "    </tr>\n",
       "    <tr>\n",
       "      <th>top</th>\n",
       "      <td>Oscar et la dame rose (2009)</td>\n",
       "      <td>drama</td>\n",
       "      <td>Grammy - music award of the American academy ...</td>\n",
       "    </tr>\n",
       "    <tr>\n",
       "      <th>freq</th>\n",
       "      <td>1</td>\n",
       "      <td>13613</td>\n",
       "      <td>12</td>\n",
       "    </tr>\n",
       "  </tbody>\n",
       "</table>\n",
       "</div>"
      ],
      "text/plain": [
       "                            Movie_name    Gener  \\\n",
       "count                            54214    54214   \n",
       "unique                           54214       27   \n",
       "top      Oscar et la dame rose (2009)    drama    \n",
       "freq                                 1    13613   \n",
       "\n",
       "                                              Description  \n",
       "count                                               54214  \n",
       "unique                                              54086  \n",
       "top      Grammy - music award of the American academy ...  \n",
       "freq                                                   12  "
      ]
     },
     "execution_count": 12,
     "metadata": {},
     "output_type": "execute_result"
    }
   ],
   "source": [
    "test_data.describe()"
   ]
  },
  {
   "cell_type": "code",
   "execution_count": 13,
   "id": "ecb16323",
   "metadata": {
    "execution": {
     "iopub.execute_input": "2024-07-29T18:12:55.745445Z",
     "iopub.status.busy": "2024-07-29T18:12:55.745060Z",
     "iopub.status.idle": "2024-07-29T18:12:56.470964Z",
     "shell.execute_reply": "2024-07-29T18:12:56.469582Z"
    },
    "papermill": {
     "duration": 0.738879,
     "end_time": "2024-07-29T18:12:56.473908",
     "exception": false,
     "start_time": "2024-07-29T18:12:55.735029",
     "status": "completed"
    },
    "tags": []
   },
   "outputs": [
    {
     "data": {
      "text/plain": [
       "Text(0.5, 1.0, 'Gener distripution')"
      ]
     },
     "execution_count": 13,
     "metadata": {},
     "output_type": "execute_result"
    },
    {
     "data": {
      "image/png": "[encoded data removed]",
      "text/plain": [
       "<Figure size 1000x1000 with 1 Axes>"
      ]
     },
     "metadata": {},
     "output_type": "display_data"
    }
   ],
   "source": [
    "plt.figure(figsize=(10,10))\n",
    "sns.countplot(data=train_data,order= train_data[\"Gener\"].value_counts().index,y=\"Gener\",color=\"#9467bd\")\n",
    "plt.title(\"Gener distripution\")"
   ]
  },
  {
   "cell_type": "code",
   "execution_count": 14,
   "id": "6c25aeb1",
   "metadata": {
    "execution": {
     "iopub.execute_input": "2024-07-29T18:12:56.495333Z",
     "iopub.status.busy": "2024-07-29T18:12:56.494941Z",
     "iopub.status.idle": "2024-07-29T18:15:40.171944Z",
     "shell.execute_reply": "2024-07-29T18:15:40.170612Z"
    },
    "papermill": {
     "duration": 163.691206,
     "end_time": "2024-07-29T18:15:40.175128",
     "exception": false,
     "start_time": "2024-07-29T18:12:56.483922",
     "status": "completed"
    },
    "tags": []
   },
   "outputs": [],
   "source": [
    "stop_words=stopwords.words(\"english\")\n",
    "import string\n",
    "import nltk\n",
    "\n",
    "# nltk.download('stopwords')\n",
    "# nltk.download('punkt') \n",
    "# maybe need to download punkt and stopwords if not downloaded before\n",
    "\n",
    "def text_preprocessing(text):\n",
    "    # Convert text to lowercase\n",
    "    text = text.lower()\n",
    "    # Remove email addresses\n",
    "    text = re.sub(r'\\S*@\\S*\\s?', '', text)\n",
    "    # Remove URLs\n",
    "    text = re.sub(r'http\\S+', '', text)\n",
    "    # Remove special characters and numbers\n",
    "    text = re.sub(r'[^a-zA-Z]', ' ', text)\n",
    "    # Remove punctuation\n",
    "    text = \"\".join([char for char in text if char not in string.punctuation])\n",
    "    # Tokenize text\n",
    "    words = word_tokenize(text)\n",
    "    # Remove stopwords\n",
    "    text = \" \".join([word for word in words if word not in stop_words and len(word) > 2])\n",
    "    # Remove multiple spaces\n",
    "    text = re.sub(r'\\s+', ' ', text).strip()\n",
    "    return text\n",
    "train_data['clean_description']=train_data['Description'].apply(text_preprocessing)    \n",
    "test_data['clean_description']=test_data['Description'].apply(text_preprocessing)    "
   ]
  },
  {
   "cell_type": "code",
   "execution_count": 15,
   "id": "2675372b",
   "metadata": {
    "execution": {
     "iopub.execute_input": "2024-07-29T18:15:40.198239Z",
     "iopub.status.busy": "2024-07-29T18:15:40.197788Z",
     "iopub.status.idle": "2024-07-29T18:15:40.213717Z",
     "shell.execute_reply": "2024-07-29T18:15:40.211970Z"
    },
    "papermill": {
     "duration": 0.0313,
     "end_time": "2024-07-29T18:15:40.217429",
     "exception": false,
     "start_time": "2024-07-29T18:15:40.186129",
     "status": "completed"
    },
    "tags": []
   },
   "outputs": [
    {
     "data": {
      "text/html": [
       "<div>\n",
       "<style scoped>\n",
       "    .dataframe tbody tr th:only-of-type {\n",
       "        vertical-align: middle;\n",
       "    }\n",
       "\n",
       "    .dataframe tbody tr th {\n",
       "        vertical-align: top;\n",
       "    }\n",
       "\n",
       "    .dataframe thead th {\n",
       "        text-align: right;\n",
       "    }\n",
       "</style>\n",
       "<table border=\"1\" class=\"dataframe\">\n",
       "  <thead>\n",
       "    <tr style=\"text-align: right;\">\n",
       "      <th></th>\n",
       "      <th>Movie_name</th>\n",
       "      <th>Gener</th>\n",
       "      <th>Description</th>\n",
       "      <th>clean_description</th>\n",
       "    </tr>\n",
       "  </thead>\n",
       "  <tbody>\n",
       "    <tr>\n",
       "      <th>1</th>\n",
       "      <td>Oscar et la dame rose (2009)</td>\n",
       "      <td>drama</td>\n",
       "      <td>Listening in to a conversation between his do...</td>\n",
       "      <td>listening conversation doctor parents year old...</td>\n",
       "    </tr>\n",
       "    <tr>\n",
       "      <th>2</th>\n",
       "      <td>Cupid (1997)</td>\n",
       "      <td>thriller</td>\n",
       "      <td>A brother and sister with a past incestuous r...</td>\n",
       "      <td>brother sister past incestuous relationship cu...</td>\n",
       "    </tr>\n",
       "    <tr>\n",
       "      <th>3</th>\n",
       "      <td>Young, Wild and Wonderful (1980)</td>\n",
       "      <td>adult</td>\n",
       "      <td>As the bus empties the students for their fie...</td>\n",
       "      <td>bus empties students field trip museum natural...</td>\n",
       "    </tr>\n",
       "    <tr>\n",
       "      <th>4</th>\n",
       "      <td>The Secret Sin (1915)</td>\n",
       "      <td>drama</td>\n",
       "      <td>To help their unemployed father make ends mee...</td>\n",
       "      <td>help unemployed father make ends meet edith tw...</td>\n",
       "    </tr>\n",
       "    <tr>\n",
       "      <th>5</th>\n",
       "      <td>The Unrecovered (2007)</td>\n",
       "      <td>drama</td>\n",
       "      <td>The film's title refers not only to the un-re...</td>\n",
       "      <td>film title refers recovered bodies ground zero...</td>\n",
       "    </tr>\n",
       "  </tbody>\n",
       "</table>\n",
       "</div>"
      ],
      "text/plain": [
       "                           Movie_name       Gener  \\\n",
       "1       Oscar et la dame rose (2009)       drama    \n",
       "2                       Cupid (1997)    thriller    \n",
       "3   Young, Wild and Wonderful (1980)       adult    \n",
       "4              The Secret Sin (1915)       drama    \n",
       "5             The Unrecovered (2007)       drama    \n",
       "\n",
       "                                         Description  \\\n",
       "1   Listening in to a conversation between his do...   \n",
       "2   A brother and sister with a past incestuous r...   \n",
       "3   As the bus empties the students for their fie...   \n",
       "4   To help their unemployed father make ends mee...   \n",
       "5   The film's title refers not only to the un-re...   \n",
       "\n",
       "                                   clean_description  \n",
       "1  listening conversation doctor parents year old...  \n",
       "2  brother sister past incestuous relationship cu...  \n",
       "3  bus empties students field trip museum natural...  \n",
       "4  help unemployed father make ends meet edith tw...  \n",
       "5  film title refers recovered bodies ground zero...  "
      ]
     },
     "execution_count": 15,
     "metadata": {},
     "output_type": "execute_result"
    }
   ],
   "source": [
    "test_data.head()"
   ]
  },
  {
   "cell_type": "code",
   "execution_count": 16,
   "id": "638250fb",
   "metadata": {
    "execution": {
     "iopub.execute_input": "2024-07-29T18:15:40.240687Z",
     "iopub.status.busy": "2024-07-29T18:15:40.240240Z",
     "iopub.status.idle": "2024-07-29T18:15:49.998332Z",
     "shell.execute_reply": "2024-07-29T18:15:49.996889Z"
    },
    "papermill": {
     "duration": 9.773609,
     "end_time": "2024-07-29T18:15:50.001279",
     "exception": false,
     "start_time": "2024-07-29T18:15:40.227670",
     "status": "completed"
    },
    "tags": []
   },
   "outputs": [],
   "source": [
    "vect=TfidfVectorizer()\n",
    "x_train=vect.fit_transform(train_data['clean_description'])\n",
    "x_test=vect.transform(test_data['clean_description'])\n"
   ]
  },
  {
   "cell_type": "code",
   "execution_count": 17,
   "id": "aca6845b",
   "metadata": {
    "execution": {
     "iopub.execute_input": "2024-07-29T18:15:50.023529Z",
     "iopub.status.busy": "2024-07-29T18:15:50.023106Z",
     "iopub.status.idle": "2024-07-29T18:15:50.050149Z",
     "shell.execute_reply": "2024-07-29T18:15:50.048656Z"
    },
    "papermill": {
     "duration": 0.041644,
     "end_time": "2024-07-29T18:15:50.053375",
     "exception": false,
     "start_time": "2024-07-29T18:15:50.011731",
     "status": "completed"
    },
    "tags": []
   },
   "outputs": [],
   "source": [
    "x=x_train\n",
    "y=train_data['Gener']\n",
    "x_train,x_test,y_train,y_test=train_test_split(x,y,test_size=0.2,random_state=42)\n"
   ]
  },
  {
   "cell_type": "code",
   "execution_count": 18,
   "id": "7e7edd8a",
   "metadata": {
    "execution": {
     "iopub.execute_input": "2024-07-29T18:15:50.078623Z",
     "iopub.status.busy": "2024-07-29T18:15:50.077459Z",
     "iopub.status.idle": "2024-07-29T19:34:21.076507Z",
     "shell.execute_reply": "2024-07-29T19:34:21.074354Z"
    },
    "papermill": {
     "duration": 4711.025558,
     "end_time": "2024-07-29T19:34:21.089877",
     "exception": false,
     "start_time": "2024-07-29T18:15:50.064319",
     "status": "completed"
    },
    "tags": []
   },
   "outputs": [
    {
     "data": {
      "text/html": [
       "<style>#sk-container-id-1 {color: black;background-color: white;}#sk-container-id-1 pre{padding: 0;}#sk-container-id-1 div.sk-toggleable {background-color: white;}#sk-container-id-1 label.sk-toggleable__label {cursor: pointer;display: block;width: 100%;margin-bottom: 0;padding: 0.3em;box-sizing: border-box;text-align: center;}#sk-container-id-1 label.sk-toggleable__label-arrow:before {content: \"▸\";float: left;margin-right: 0.25em;color: #696969;}#sk-container-id-1 label.sk-toggleable__label-arrow:hover:before {color: black;}#sk-container-id-1 div.sk-estimator:hover label.sk-toggleable__label-arrow:before {color: black;}#sk-container-id-1 div.sk-toggleable__content {max-height: 0;max-width: 0;overflow: hidden;text-align: left;background-color: #f0f8ff;}#sk-container-id-1 div.sk-toggleable__content pre {margin: 0.2em;color: black;border-radius: 0.25em;background-color: #f0f8ff;}#sk-container-id-1 input.sk-toggleable__control:checked~div.sk-toggleable__content {max-height: 200px;max-width: 100%;overflow: auto;}#sk-container-id-1 input.sk-toggleable__control:checked~label.sk-toggleable__label-arrow:before {content: \"▾\";}#sk-container-id-1 div.sk-estimator input.sk-toggleable__control:checked~label.sk-toggleable__label {background-color: #d4ebff;}#sk-container-id-1 div.sk-label input.sk-toggleable__control:checked~label.sk-toggleable__label {background-color: #d4ebff;}#sk-container-id-1 input.sk-hidden--visually {border: 0;clip: rect(1px 1px 1px 1px);clip: rect(1px, 1px, 1px, 1px);height: 1px;margin: -1px;overflow: hidden;padding: 0;position: absolute;width: 1px;}#sk-container-id-1 div.sk-estimator {font-family: monospace;background-color: #f0f8ff;border: 1px dotted black;border-radius: 0.25em;box-sizing: border-box;margin-bottom: 0.5em;}#sk-container-id-1 div.sk-estimator:hover {background-color: #d4ebff;}#sk-container-id-1 div.sk-parallel-item::after {content: \"\";width: 100%;border-bottom: 1px solid gray;flex-grow: 1;}#sk-container-id-1 div.sk-label:hover label.sk-toggleable__label {background-color: #d4ebff;}#sk-container-id-1 div.sk-serial::before {content: \"\";position: absolute;border-left: 1px solid gray;box-sizing: border-box;top: 0;bottom: 0;left: 50%;z-index: 0;}#sk-container-id-1 div.sk-serial {display: flex;flex-direction: column;align-items: center;background-color: white;padding-right: 0.2em;padding-left: 0.2em;position: relative;}#sk-container-id-1 div.sk-item {position: relative;z-index: 1;}#sk-container-id-1 div.sk-parallel {display: flex;align-items: stretch;justify-content: center;background-color: white;position: relative;}#sk-container-id-1 div.sk-item::before, #sk-container-id-1 div.sk-parallel-item::before {content: \"\";position: absolute;border-left: 1px solid gray;box-sizing: border-box;top: 0;bottom: 0;left: 50%;z-index: -1;}#sk-container-id-1 div.sk-parallel-item {display: flex;flex-direction: column;z-index: 1;position: relative;background-color: white;}#sk-container-id-1 div.sk-parallel-item:first-child::after {align-self: flex-end;width: 50%;}#sk-container-id-1 div.sk-parallel-item:last-child::after {align-self: flex-start;width: 50%;}#sk-container-id-1 div.sk-parallel-item:only-child::after {width: 0;}#sk-container-id-1 div.sk-dashed-wrapped {border: 1px dashed gray;margin: 0 0.4em 0.5em 0.4em;box-sizing: border-box;padding-bottom: 0.4em;background-color: white;}#sk-container-id-1 div.sk-label label {font-family: monospace;font-weight: bold;display: inline-block;line-height: 1.2em;}#sk-container-id-1 div.sk-label-container {text-align: center;}#sk-container-id-1 div.sk-container {/* jupyter's `normalize.less` sets `[hidden] { display: none; }` but bootstrap.min.css set `[hidden] { display: none !important; }` so we also need the `!important` here to be able to override the default hidden behavior on the sphinx rendered scikit-learn.org. See: https://github.com/scikit-learn/scikit-learn/issues/21755 */display: inline-block !important;position: relative;}#sk-container-id-1 div.sk-text-repr-fallback {display: none;}</style><div id=\"sk-container-id-1\" class=\"sk-top-container\"><div class=\"sk-text-repr-fallback\"><pre>SVC()</pre><b>In a Jupyter environment, please rerun this cell to show the HTML representation or trust the notebook. <br />On GitHub, the HTML representation is unable to render, please try loading this page with nbviewer.org.</b></div><div class=\"sk-container\" hidden><div class=\"sk-item\"><div class=\"sk-estimator sk-toggleable\"><input class=\"sk-toggleable__control sk-hidden--visually\" id=\"sk-estimator-id-1\" type=\"checkbox\" checked><label for=\"sk-estimator-id-1\" class=\"sk-toggleable__label sk-toggleable__label-arrow\">SVC</label><div class=\"sk-toggleable__content\"><pre>SVC()</pre></div></div></div></div></div>"
      ],
      "text/plain": [
       "SVC()"
      ]
     },
     "execution_count": 18,
     "metadata": {},
     "output_type": "execute_result"
    }
   ],
   "source": [
    "model = SVC() \n",
    "model.fit(x_train, y_train)      "
   ]
  },
  {
   "cell_type": "code",
   "execution_count": 19,
   "id": "3135d8d7",
   "metadata": {
    "execution": {
     "iopub.execute_input": "2024-07-29T19:34:21.114186Z",
     "iopub.status.busy": "2024-07-29T19:34:21.113705Z",
     "iopub.status.idle": "2024-07-29T19:54:19.653524Z",
     "shell.execute_reply": "2024-07-29T19:54:19.651884Z"
    },
    "papermill": {
     "duration": 1198.566095,
     "end_time": "2024-07-29T19:54:19.666543",
     "exception": false,
     "start_time": "2024-07-29T19:34:21.100448",
     "status": "completed"
    },
    "tags": []
   },
   "outputs": [
    {
     "data": {
      "text/plain": [
       "0.9037375204629822"
      ]
     },
     "execution_count": 19,
     "metadata": {},
     "output_type": "execute_result"
    }
   ],
   "source": [
    "model.score(x_train, y_train) "
   ]
  },
  {
   "cell_type": "code",
   "execution_count": 20,
   "id": "60ee24a4",
   "metadata": {
    "execution": {
     "iopub.execute_input": "2024-07-29T19:54:19.690426Z",
     "iopub.status.busy": "2024-07-29T19:54:19.690000Z",
     "iopub.status.idle": "2024-07-29T19:59:19.144550Z",
     "shell.execute_reply": "2024-07-29T19:59:19.143166Z"
    },
    "papermill": {
     "duration": 299.470113,
     "end_time": "2024-07-29T19:59:19.147540",
     "exception": false,
     "start_time": "2024-07-29T19:54:19.677427",
     "status": "completed"
    },
    "tags": []
   },
   "outputs": [],
   "source": [
    "y_pred=model.predict(x_test)"
   ]
  },
  {
   "cell_type": "code",
   "execution_count": 21,
   "id": "cebe0ed8",
   "metadata": {
    "execution": {
     "iopub.execute_input": "2024-07-29T19:59:19.171568Z",
     "iopub.status.busy": "2024-07-29T19:59:19.171151Z",
     "iopub.status.idle": "2024-07-29T19:59:19.200372Z",
     "shell.execute_reply": "2024-07-29T19:59:19.198782Z"
    },
    "papermill": {
     "duration": 0.044453,
     "end_time": "2024-07-29T19:59:19.203184",
     "exception": false,
     "start_time": "2024-07-29T19:59:19.158731",
     "status": "completed"
    },
    "tags": []
   },
   "outputs": [
    {
     "name": "stdout",
     "output_type": "stream",
     "text": [
      "Validation Accuracy: 0.5682006824679516\n"
     ]
    }
   ],
   "source": [
    "accuracy = accuracy_score(y_test, y_pred)\n",
    "print(\"Validation Accuracy:\", accuracy)"
   ]
  }
 ],
 "metadata": {
  "kaggle": {
   "accelerator": "none",
   "dataSources": [
    {
     "datasetId": 1417162,
     "sourceId": 2347441,
     "sourceType": "datasetVersion"
    }
   ],
   "dockerImageVersionId": 30746,
   "isGpuEnabled": false,
   "isInternetEnabled": true,
   "language": "python",
   "sourceType": "notebook"
  },
  "kernelspec": {
   "display_name": "Python 3",
   "language": "python",
   "name": "python3"
  },
  "language_info": {
   "codemirror_mode": {
    "name": "ipython",
    "version": 3
   },
   "file_extension": ".py",
   "mimetype": "text/x-python",
   "name": "python",
   "nbconvert_exporter": "python",
   "pygments_lexer": "ipython3",
   "version": "3.10.13"
  },
  "papermill": {
   "default_parameters": {},
   "duration": 6394.252031,
   "end_time": "2024-07-29T19:59:20.153081",
   "environment_variables": {},
   "exception": null,
   "input_path": "__notebook__.ipynb",
   "output_path": "__notebook__.ipynb",
   "parameters": {},
   "start_time": "2024-07-29T18:12:45.901050",
   "version": "2.5.0"
  }
 },
 "nbformat": 4,
 "nbformat_minor": 5
}
