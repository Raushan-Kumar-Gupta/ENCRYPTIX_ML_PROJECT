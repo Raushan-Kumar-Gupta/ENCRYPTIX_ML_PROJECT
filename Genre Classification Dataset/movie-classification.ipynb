{
 "cells": [
  {
   "cell_type": "code",
   "execution_count": 12,
   "id": "df6ad539",
   "metadata": {
    "papermill": {
     "duration": 4.012071,
     "end_time": "2024-07-29T18:12:53.259753",
     "exception": false,
     "start_time": "2024-07-29T18:12:49.247682",
     "status": "completed"
    },
    "tags": []
   },
   "outputs": [],
   "source": [
    "from sklearn.svm import SVC\n",
    "from sklearn.ensemble import RandomForestClassifier\n",
    "from sklearn.model_selection import train_test_split\n",
    "import nltk \n",
    "import re\n",
    "import numpy as np\n",
    "import pandas as pd \n",
    "import matplotlib.pyplot as plt\n",
    "import seaborn as sns\n",
    "from nltk.corpus import stopwords\n",
    "from nltk.tokenize import word_tokenize\n",
    "from sklearn.feature_extraction.text import TfidfVectorizer\n",
    "from sklearn.metrics import  accuracy_score\n",
    "\n"
   ]
  },
  {
   "cell_type": "code",
   "execution_count": 13,
   "id": "118253d1",
   "metadata": {
    "papermill": {
     "duration": 1.315597,
     "end_time": "2024-07-29T18:12:54.581693",
     "exception": false,
     "start_time": "2024-07-29T18:12:53.266096",
     "status": "completed"
    },
    "tags": []
   },
   "outputs": [],
   "source": [
    "train_data_path=r\"train_data.txt\"\n",
    "train_data=pd.read_csv(train_data_path,sep=\":::\",names=[\"Movie_name\",\"Gener\",\"Description\"],engine=\"python\")"
   ]
  },
  {
   "cell_type": "code",
   "execution_count": 14,
   "id": "7dc86d65",
   "metadata": {
    "papermill": {
     "duration": 0.035296,
     "end_time": "2024-07-29T18:12:54.624826",
     "exception": false,
     "start_time": "2024-07-29T18:12:54.589530",
     "status": "completed"
    },
    "tags": []
   },
   "outputs": [
    {
     "data": {
      "text/html": [
       "<div>\n",
       "<style scoped>\n",
       "    .dataframe tbody tr th:only-of-type {\n",
       "        vertical-align: middle;\n",
       "    }\n",
       "\n",
       "    .dataframe tbody tr th {\n",
       "        vertical-align: top;\n",
       "    }\n",
       "\n",
       "    .dataframe thead th {\n",
       "        text-align: right;\n",
       "    }\n",
       "</style>\n",
       "<table border=\"1\" class=\"dataframe\">\n",
       "  <thead>\n",
       "    <tr style=\"text-align: right;\">\n",
       "      <th></th>\n",
       "      <th>Movie_name</th>\n",
       "      <th>Gener</th>\n",
       "      <th>Description</th>\n",
       "    </tr>\n",
       "  </thead>\n",
       "  <tbody>\n",
       "    <tr>\n",
       "      <th>1</th>\n",
       "      <td>Oscar et la dame rose (2009)</td>\n",
       "      <td>drama</td>\n",
       "      <td>Listening in to a conversation between his do...</td>\n",
       "    </tr>\n",
       "    <tr>\n",
       "      <th>2</th>\n",
       "      <td>Cupid (1997)</td>\n",
       "      <td>thriller</td>\n",
       "      <td>A brother and sister with a past incestuous r...</td>\n",
       "    </tr>\n",
       "    <tr>\n",
       "      <th>3</th>\n",
       "      <td>Young, Wild and Wonderful (1980)</td>\n",
       "      <td>adult</td>\n",
       "      <td>As the bus empties the students for their fie...</td>\n",
       "    </tr>\n",
       "    <tr>\n",
       "      <th>4</th>\n",
       "      <td>The Secret Sin (1915)</td>\n",
       "      <td>drama</td>\n",
       "      <td>To help their unemployed father make ends mee...</td>\n",
       "    </tr>\n",
       "    <tr>\n",
       "      <th>5</th>\n",
       "      <td>The Unrecovered (2007)</td>\n",
       "      <td>drama</td>\n",
       "      <td>The film's title refers not only to the un-re...</td>\n",
       "    </tr>\n",
       "    <tr>\n",
       "      <th>6</th>\n",
       "      <td>Quality Control (2011)</td>\n",
       "      <td>documentary</td>\n",
       "      <td>Quality Control consists of a series of 16mm ...</td>\n",
       "    </tr>\n",
       "    <tr>\n",
       "      <th>7</th>\n",
       "      <td>\"Pink Slip\" (2009)</td>\n",
       "      <td>comedy</td>\n",
       "      <td>In tough economic times Max and Joey have all...</td>\n",
       "    </tr>\n",
       "    <tr>\n",
       "      <th>8</th>\n",
       "      <td>One Step Away (1985)</td>\n",
       "      <td>crime</td>\n",
       "      <td>Ron Petrie (Keanu Reeves) is a troubled teen ...</td>\n",
       "    </tr>\n",
       "    <tr>\n",
       "      <th>9</th>\n",
       "      <td>\"Desperate Hours\" (2016)</td>\n",
       "      <td>reality-tv</td>\n",
       "      <td>A sudden calamitous event, causing great loss...</td>\n",
       "    </tr>\n",
       "    <tr>\n",
       "      <th>10</th>\n",
       "      <td>Spirits (2014/I)</td>\n",
       "      <td>horror</td>\n",
       "      <td>Four high school students embark on a terrify...</td>\n",
       "    </tr>\n",
       "    <tr>\n",
       "      <th>11</th>\n",
       "      <td>The Spirit World: Ghana (2016)</td>\n",
       "      <td>documentary</td>\n",
       "      <td>Tom Beacham explores Ghana with Director of P...</td>\n",
       "    </tr>\n",
       "    <tr>\n",
       "      <th>12</th>\n",
       "      <td>In the Gloaming (1997)</td>\n",
       "      <td>drama</td>\n",
       "      <td>Danny, dying of Aids, returns home for his la...</td>\n",
       "    </tr>\n",
       "    <tr>\n",
       "      <th>13</th>\n",
       "      <td>Pink Ribbons: One Small Step (2009)</td>\n",
       "      <td>documentary</td>\n",
       "      <td>A sister's breast cancer diagnosis and her br...</td>\n",
       "    </tr>\n",
       "    <tr>\n",
       "      <th>14</th>\n",
       "      <td>Interrabang (1969)</td>\n",
       "      <td>thriller</td>\n",
       "      <td>A photographer is sailing with his wife, her ...</td>\n",
       "    </tr>\n",
       "    <tr>\n",
       "      <th>15</th>\n",
       "      <td>The Glass Menagerie (1973)</td>\n",
       "      <td>drama</td>\n",
       "      <td>Amanda Wingfield dominates her children with ...</td>\n",
       "    </tr>\n",
       "    <tr>\n",
       "      <th>16</th>\n",
       "      <td>Night Call (2016)</td>\n",
       "      <td>drama</td>\n",
       "      <td>Simon's world is turned upside down when his ...</td>\n",
       "    </tr>\n",
       "    <tr>\n",
       "      <th>17</th>\n",
       "      <td>Babylon Vista (2001)</td>\n",
       "      <td>comedy</td>\n",
       "      <td>Frankie Reno was a child star on a TV show. B...</td>\n",
       "    </tr>\n",
       "    <tr>\n",
       "      <th>18</th>\n",
       "      <td>\"Wo Grafen schlafen - Eine Schlösser-Reise\" (...</td>\n",
       "      <td>documentary</td>\n",
       "      <td>The story of the Castle and Family of Norbert...</td>\n",
       "    </tr>\n",
       "    <tr>\n",
       "      <th>19</th>\n",
       "      <td>\"Roller Warriors\" (2009)</td>\n",
       "      <td>sport</td>\n",
       "      <td>Modern roller derby began in Austin, TX in 20...</td>\n",
       "    </tr>\n",
       "    <tr>\n",
       "      <th>20</th>\n",
       "      <td>Bird Idol (2010)</td>\n",
       "      <td>animation</td>\n",
       "      <td>The story revolves around a bird called 'Humm...</td>\n",
       "    </tr>\n",
       "  </tbody>\n",
       "</table>\n",
       "</div>"
      ],
      "text/plain": [
       "                                           Movie_name          Gener  \\\n",
       "1                       Oscar et la dame rose (2009)          drama    \n",
       "2                                       Cupid (1997)       thriller    \n",
       "3                   Young, Wild and Wonderful (1980)          adult    \n",
       "4                              The Secret Sin (1915)          drama    \n",
       "5                             The Unrecovered (2007)          drama    \n",
       "6                             Quality Control (2011)    documentary    \n",
       "7                                 \"Pink Slip\" (2009)         comedy    \n",
       "8                               One Step Away (1985)          crime    \n",
       "9                           \"Desperate Hours\" (2016)     reality-tv    \n",
       "10                                  Spirits (2014/I)         horror    \n",
       "11                    The Spirit World: Ghana (2016)    documentary    \n",
       "12                            In the Gloaming (1997)          drama    \n",
       "13               Pink Ribbons: One Small Step (2009)    documentary    \n",
       "14                                Interrabang (1969)       thriller    \n",
       "15                        The Glass Menagerie (1973)          drama    \n",
       "16                                 Night Call (2016)          drama    \n",
       "17                              Babylon Vista (2001)         comedy    \n",
       "18   \"Wo Grafen schlafen - Eine Schlösser-Reise\" (...   documentary    \n",
       "19                          \"Roller Warriors\" (2009)          sport    \n",
       "20                                  Bird Idol (2010)      animation    \n",
       "\n",
       "                                          Description  \n",
       "1    Listening in to a conversation between his do...  \n",
       "2    A brother and sister with a past incestuous r...  \n",
       "3    As the bus empties the students for their fie...  \n",
       "4    To help their unemployed father make ends mee...  \n",
       "5    The film's title refers not only to the un-re...  \n",
       "6    Quality Control consists of a series of 16mm ...  \n",
       "7    In tough economic times Max and Joey have all...  \n",
       "8    Ron Petrie (Keanu Reeves) is a troubled teen ...  \n",
       "9    A sudden calamitous event, causing great loss...  \n",
       "10   Four high school students embark on a terrify...  \n",
       "11   Tom Beacham explores Ghana with Director of P...  \n",
       "12   Danny, dying of Aids, returns home for his la...  \n",
       "13   A sister's breast cancer diagnosis and her br...  \n",
       "14   A photographer is sailing with his wife, her ...  \n",
       "15   Amanda Wingfield dominates her children with ...  \n",
       "16   Simon's world is turned upside down when his ...  \n",
       "17   Frankie Reno was a child star on a TV show. B...  \n",
       "18   The story of the Castle and Family of Norbert...  \n",
       "19   Modern roller derby began in Austin, TX in 20...  \n",
       "20   The story revolves around a bird called 'Humm...  "
      ]
     },
     "execution_count": 14,
     "metadata": {},
     "output_type": "execute_result"
    }
   ],
   "source": [
    "train_data.head(20)"
   ]
  },
  {
   "cell_type": "code",
   "execution_count": 15,
   "id": "26d65f90",
   "metadata": {
    "papermill": {
     "duration": 0.041236,
     "end_time": "2024-07-29T18:12:54.672778",
     "exception": false,
     "start_time": "2024-07-29T18:12:54.631542",
     "status": "completed"
    },
    "tags": []
   },
   "outputs": [
    {
     "data": {
      "text/plain": [
       "Movie_name     0\n",
       "Gener          0\n",
       "Description    0\n",
       "dtype: int64"
      ]
     },
     "execution_count": 15,
     "metadata": {},
     "output_type": "execute_result"
    }
   ],
   "source": [
    "train_data.isnull().sum()"
   ]
  },
  {
   "cell_type": "code",
   "execution_count": 16,
   "id": "180033f6",
   "metadata": {
    "papermill": {
     "duration": 0.056386,
     "end_time": "2024-07-29T18:12:54.736117",
     "exception": false,
     "start_time": "2024-07-29T18:12:54.679731",
     "status": "completed"
    },
    "tags": []
   },
   "outputs": [
    {
     "name": "stdout",
     "output_type": "stream",
     "text": [
      "<class 'pandas.core.frame.DataFrame'>\n",
      "Index: 54214 entries, 1 to 54214\n",
      "Data columns (total 3 columns):\n",
      " #   Column       Non-Null Count  Dtype \n",
      "---  ------       --------------  ----- \n",
      " 0   Movie_name   54214 non-null  object\n",
      " 1   Gener        54214 non-null  object\n",
      " 2   Description  54214 non-null  object\n",
      "dtypes: object(3)\n",
      "memory usage: 1.7+ MB\n"
     ]
    }
   ],
   "source": [
    "train_data.info()"
   ]
  },
  {
   "cell_type": "code",
   "execution_count": 17,
   "id": "bfa57f8f",
   "metadata": {
    "papermill": {
     "duration": 0.166176,
     "end_time": "2024-07-29T18:12:54.909400",
     "exception": false,
     "start_time": "2024-07-29T18:12:54.743224",
     "status": "completed"
    },
    "tags": []
   },
   "outputs": [
    {
     "data": {
      "text/html": [
       "<div>\n",
       "<style scoped>\n",
       "    .dataframe tbody tr th:only-of-type {\n",
       "        vertical-align: middle;\n",
       "    }\n",
       "\n",
       "    .dataframe tbody tr th {\n",
       "        vertical-align: top;\n",
       "    }\n",
       "\n",
       "    .dataframe thead th {\n",
       "        text-align: right;\n",
       "    }\n",
       "</style>\n",
       "<table border=\"1\" class=\"dataframe\">\n",
       "  <thead>\n",
       "    <tr style=\"text-align: right;\">\n",
       "      <th></th>\n",
       "      <th>Movie_name</th>\n",
       "      <th>Gener</th>\n",
       "      <th>Description</th>\n",
       "    </tr>\n",
       "  </thead>\n",
       "  <tbody>\n",
       "    <tr>\n",
       "      <th>count</th>\n",
       "      <td>54214</td>\n",
       "      <td>54214</td>\n",
       "      <td>54214</td>\n",
       "    </tr>\n",
       "    <tr>\n",
       "      <th>unique</th>\n",
       "      <td>54214</td>\n",
       "      <td>27</td>\n",
       "      <td>54086</td>\n",
       "    </tr>\n",
       "    <tr>\n",
       "      <th>top</th>\n",
       "      <td>Oscar et la dame rose (2009)</td>\n",
       "      <td>drama</td>\n",
       "      <td>Grammy - music award of the American academy ...</td>\n",
       "    </tr>\n",
       "    <tr>\n",
       "      <th>freq</th>\n",
       "      <td>1</td>\n",
       "      <td>13613</td>\n",
       "      <td>12</td>\n",
       "    </tr>\n",
       "  </tbody>\n",
       "</table>\n",
       "</div>"
      ],
      "text/plain": [
       "                            Movie_name    Gener  \\\n",
       "count                            54214    54214   \n",
       "unique                           54214       27   \n",
       "top      Oscar et la dame rose (2009)    drama    \n",
       "freq                                 1    13613   \n",
       "\n",
       "                                              Description  \n",
       "count                                               54214  \n",
       "unique                                              54086  \n",
       "top      Grammy - music award of the American academy ...  \n",
       "freq                                                   12  "
      ]
     },
     "execution_count": 17,
     "metadata": {},
     "output_type": "execute_result"
    }
   ],
   "source": [
    "train_data.describe()"
   ]
  },
  {
   "cell_type": "code",
   "execution_count": 18,
   "id": "67cf4e61",
   "metadata": {
    "papermill": {
     "duration": 0.498645,
     "end_time": "2024-07-29T18:12:55.416177",
     "exception": false,
     "start_time": "2024-07-29T18:12:54.917532",
     "status": "completed"
    },
    "tags": []
   },
   "outputs": [],
   "source": [
    "test_data_path=r\"test_data.txt\"\n",
    "test_data=pd.read_csv(train_data_path,sep=\":::\",names=[\"Movie_name\",\"Gener\",\"Description\"],engine=\"python\")"
   ]
  },
  {
   "cell_type": "code",
   "execution_count": 19,
   "id": "8b4b2e7a",
   "metadata": {
    "papermill": {
     "duration": 0.024992,
     "end_time": "2024-07-29T18:12:55.448556",
     "exception": false,
     "start_time": "2024-07-29T18:12:55.423564",
     "status": "completed"
    },
    "tags": []
   },
   "outputs": [
    {
     "data": {
      "text/html": [
       "<div>\n",
       "<style scoped>\n",
       "    .dataframe tbody tr th:only-of-type {\n",
       "        vertical-align: middle;\n",
       "    }\n",
       "\n",
       "    .dataframe tbody tr th {\n",
       "        vertical-align: top;\n",
       "    }\n",
       "\n",
       "    .dataframe thead th {\n",
       "        text-align: right;\n",
       "    }\n",
       "</style>\n",
       "<table border=\"1\" class=\"dataframe\">\n",
       "  <thead>\n",
       "    <tr style=\"text-align: right;\">\n",
       "      <th></th>\n",
       "      <th>Movie_name</th>\n",
       "      <th>Gener</th>\n",
       "      <th>Description</th>\n",
       "    </tr>\n",
       "  </thead>\n",
       "  <tbody>\n",
       "    <tr>\n",
       "      <th>1</th>\n",
       "      <td>Oscar et la dame rose (2009)</td>\n",
       "      <td>drama</td>\n",
       "      <td>Listening in to a conversation between his do...</td>\n",
       "    </tr>\n",
       "    <tr>\n",
       "      <th>2</th>\n",
       "      <td>Cupid (1997)</td>\n",
       "      <td>thriller</td>\n",
       "      <td>A brother and sister with a past incestuous r...</td>\n",
       "    </tr>\n",
       "    <tr>\n",
       "      <th>3</th>\n",
       "      <td>Young, Wild and Wonderful (1980)</td>\n",
       "      <td>adult</td>\n",
       "      <td>As the bus empties the students for their fie...</td>\n",
       "    </tr>\n",
       "    <tr>\n",
       "      <th>4</th>\n",
       "      <td>The Secret Sin (1915)</td>\n",
       "      <td>drama</td>\n",
       "      <td>To help their unemployed father make ends mee...</td>\n",
       "    </tr>\n",
       "    <tr>\n",
       "      <th>5</th>\n",
       "      <td>The Unrecovered (2007)</td>\n",
       "      <td>drama</td>\n",
       "      <td>The film's title refers not only to the un-re...</td>\n",
       "    </tr>\n",
       "    <tr>\n",
       "      <th>6</th>\n",
       "      <td>Quality Control (2011)</td>\n",
       "      <td>documentary</td>\n",
       "      <td>Quality Control consists of a series of 16mm ...</td>\n",
       "    </tr>\n",
       "    <tr>\n",
       "      <th>7</th>\n",
       "      <td>\"Pink Slip\" (2009)</td>\n",
       "      <td>comedy</td>\n",
       "      <td>In tough economic times Max and Joey have all...</td>\n",
       "    </tr>\n",
       "    <tr>\n",
       "      <th>8</th>\n",
       "      <td>One Step Away (1985)</td>\n",
       "      <td>crime</td>\n",
       "      <td>Ron Petrie (Keanu Reeves) is a troubled teen ...</td>\n",
       "    </tr>\n",
       "    <tr>\n",
       "      <th>9</th>\n",
       "      <td>\"Desperate Hours\" (2016)</td>\n",
       "      <td>reality-tv</td>\n",
       "      <td>A sudden calamitous event, causing great loss...</td>\n",
       "    </tr>\n",
       "    <tr>\n",
       "      <th>10</th>\n",
       "      <td>Spirits (2014/I)</td>\n",
       "      <td>horror</td>\n",
       "      <td>Four high school students embark on a terrify...</td>\n",
       "    </tr>\n",
       "    <tr>\n",
       "      <th>11</th>\n",
       "      <td>The Spirit World: Ghana (2016)</td>\n",
       "      <td>documentary</td>\n",
       "      <td>Tom Beacham explores Ghana with Director of P...</td>\n",
       "    </tr>\n",
       "    <tr>\n",
       "      <th>12</th>\n",
       "      <td>In the Gloaming (1997)</td>\n",
       "      <td>drama</td>\n",
       "      <td>Danny, dying of Aids, returns home for his la...</td>\n",
       "    </tr>\n",
       "    <tr>\n",
       "      <th>13</th>\n",
       "      <td>Pink Ribbons: One Small Step (2009)</td>\n",
       "      <td>documentary</td>\n",
       "      <td>A sister's breast cancer diagnosis and her br...</td>\n",
       "    </tr>\n",
       "    <tr>\n",
       "      <th>14</th>\n",
       "      <td>Interrabang (1969)</td>\n",
       "      <td>thriller</td>\n",
       "      <td>A photographer is sailing with his wife, her ...</td>\n",
       "    </tr>\n",
       "    <tr>\n",
       "      <th>15</th>\n",
       "      <td>The Glass Menagerie (1973)</td>\n",
       "      <td>drama</td>\n",
       "      <td>Amanda Wingfield dominates her children with ...</td>\n",
       "    </tr>\n",
       "  </tbody>\n",
       "</table>\n",
       "</div>"
      ],
      "text/plain": [
       "                               Movie_name          Gener  \\\n",
       "1           Oscar et la dame rose (2009)          drama    \n",
       "2                           Cupid (1997)       thriller    \n",
       "3       Young, Wild and Wonderful (1980)          adult    \n",
       "4                  The Secret Sin (1915)          drama    \n",
       "5                 The Unrecovered (2007)          drama    \n",
       "6                 Quality Control (2011)    documentary    \n",
       "7                     \"Pink Slip\" (2009)         comedy    \n",
       "8                   One Step Away (1985)          crime    \n",
       "9               \"Desperate Hours\" (2016)     reality-tv    \n",
       "10                      Spirits (2014/I)         horror    \n",
       "11        The Spirit World: Ghana (2016)    documentary    \n",
       "12                In the Gloaming (1997)          drama    \n",
       "13   Pink Ribbons: One Small Step (2009)    documentary    \n",
       "14                    Interrabang (1969)       thriller    \n",
       "15            The Glass Menagerie (1973)          drama    \n",
       "\n",
       "                                          Description  \n",
       "1    Listening in to a conversation between his do...  \n",
       "2    A brother and sister with a past incestuous r...  \n",
       "3    As the bus empties the students for their fie...  \n",
       "4    To help their unemployed father make ends mee...  \n",
       "5    The film's title refers not only to the un-re...  \n",
       "6    Quality Control consists of a series of 16mm ...  \n",
       "7    In tough economic times Max and Joey have all...  \n",
       "8    Ron Petrie (Keanu Reeves) is a troubled teen ...  \n",
       "9    A sudden calamitous event, causing great loss...  \n",
       "10   Four high school students embark on a terrify...  \n",
       "11   Tom Beacham explores Ghana with Director of P...  \n",
       "12   Danny, dying of Aids, returns home for his la...  \n",
       "13   A sister's breast cancer diagnosis and her br...  \n",
       "14   A photographer is sailing with his wife, her ...  \n",
       "15   Amanda Wingfield dominates her children with ...  "
      ]
     },
     "execution_count": 19,
     "metadata": {},
     "output_type": "execute_result"
    }
   ],
   "source": [
    "test_data.head(15)"
   ]
  },
  {
   "cell_type": "code",
   "execution_count": 20,
   "id": "428ec49a",
   "metadata": {
    "papermill": {
     "duration": 0.045111,
     "end_time": "2024-07-29T18:12:55.501521",
     "exception": false,
     "start_time": "2024-07-29T18:12:55.456410",
     "status": "completed"
    },
    "tags": []
   },
   "outputs": [
    {
     "name": "stdout",
     "output_type": "stream",
     "text": [
      "<class 'pandas.core.frame.DataFrame'>\n",
      "Index: 54214 entries, 1 to 54214\n",
      "Data columns (total 3 columns):\n",
      " #   Column       Non-Null Count  Dtype \n",
      "---  ------       --------------  ----- \n",
      " 0   Movie_name   54214 non-null  object\n",
      " 1   Gener        54214 non-null  object\n",
      " 2   Description  54214 non-null  object\n",
      "dtypes: object(3)\n",
      "memory usage: 1.7+ MB\n"
     ]
    }
   ],
   "source": [
    "test_data.info()"
   ]
  },
  {
   "cell_type": "code",
   "execution_count": 21,
   "id": "2d30a5f0",
   "metadata": {
    "papermill": {
     "duration": 0.043123,
     "end_time": "2024-07-29T18:12:55.552879",
     "exception": false,
     "start_time": "2024-07-29T18:12:55.509756",
     "status": "completed"
    },
    "tags": []
   },
   "outputs": [
    {
     "data": {
      "text/plain": [
       "Movie_name     0\n",
       "Gener          0\n",
       "Description    0\n",
       "dtype: int64"
      ]
     },
     "execution_count": 21,
     "metadata": {},
     "output_type": "execute_result"
    }
   ],
   "source": [
    "test_data.isnull().sum()"
   ]
  },
  {
   "cell_type": "code",
   "execution_count": 22,
   "id": "22eac02f",
   "metadata": {
    "papermill": {
     "duration": 0.165189,
     "end_time": "2024-07-29T18:12:55.726308",
     "exception": false,
     "start_time": "2024-07-29T18:12:55.561119",
     "status": "completed"
    },
    "tags": []
   },
   "outputs": [
    {
     "data": {
      "text/html": [
       "<div>\n",
       "<style scoped>\n",
       "    .dataframe tbody tr th:only-of-type {\n",
       "        vertical-align: middle;\n",
       "    }\n",
       "\n",
       "    .dataframe tbody tr th {\n",
       "        vertical-align: top;\n",
       "    }\n",
       "\n",
       "    .dataframe thead th {\n",
       "        text-align: right;\n",
       "    }\n",
       "</style>\n",
       "<table border=\"1\" class=\"dataframe\">\n",
       "  <thead>\n",
       "    <tr style=\"text-align: right;\">\n",
       "      <th></th>\n",
       "      <th>Movie_name</th>\n",
       "      <th>Gener</th>\n",
       "      <th>Description</th>\n",
       "    </tr>\n",
       "  </thead>\n",
       "  <tbody>\n",
       "    <tr>\n",
       "      <th>count</th>\n",
       "      <td>54214</td>\n",
       "      <td>54214</td>\n",
       "      <td>54214</td>\n",
       "    </tr>\n",
       "    <tr>\n",
       "      <th>unique</th>\n",
       "      <td>54214</td>\n",
       "      <td>27</td>\n",
       "      <td>54086</td>\n",
       "    </tr>\n",
       "    <tr>\n",
       "      <th>top</th>\n",
       "      <td>Oscar et la dame rose (2009)</td>\n",
       "      <td>drama</td>\n",
       "      <td>Grammy - music award of the American academy ...</td>\n",
       "    </tr>\n",
       "    <tr>\n",
       "      <th>freq</th>\n",
       "      <td>1</td>\n",
       "      <td>13613</td>\n",
       "      <td>12</td>\n",
       "    </tr>\n",
       "  </tbody>\n",
       "</table>\n",
       "</div>"
      ],
      "text/plain": [
       "                            Movie_name    Gener  \\\n",
       "count                            54214    54214   \n",
       "unique                           54214       27   \n",
       "top      Oscar et la dame rose (2009)    drama    \n",
       "freq                                 1    13613   \n",
       "\n",
       "                                              Description  \n",
       "count                                               54214  \n",
       "unique                                              54086  \n",
       "top      Grammy - music award of the American academy ...  \n",
       "freq                                                   12  "
      ]
     },
     "execution_count": 22,
     "metadata": {},
     "output_type": "execute_result"
    }
   ],
   "source": [
    "test_data.describe()"
   ]
  },
  {
   "cell_type": "code",
   "execution_count": 26,
   "id": "ecb16323",
   "metadata": {
    "papermill": {
     "duration": 0.738879,
     "end_time": "2024-07-29T18:12:56.473908",
     "exception": false,
     "start_time": "2024-07-29T18:12:55.735029",
     "status": "completed"
    },
    "tags": []
   },
   "outputs": [
    {
     "data": {
      "text/plain": [
       "Text(0.5, 1.0, 'Gener distripution')"
      ]
     },
     "execution_count": 26,
     "metadata": {},
     "output_type": "execute_result"
    },
    {
     "data": {
      "image/png": "[encoded data removed]",
      "text/plain": [
       "<Figure size 1000x1000 with 1 Axes>"
      ]
     },
     "metadata": {},
     "output_type": "display_data"
    }
   ],
   "source": [
    "plt.figure(figsize=(10,10))\n",
    "sns.countplot(data=train_data,order= train_data[\"Gener\"].value_counts().index,y=\"Gener\",color=\"r\")\n",
    "plt.title(\"Gener distripution\")"
   ]
  },
  {
   "cell_type": "code",
   "execution_count": 29,
   "id": "6c25aeb1",
   "metadata": {
    "papermill": {
     "duration": 163.691206,
     "end_time": "2024-07-29T18:15:40.175128",
     "exception": false,
     "start_time": "2024-07-29T18:12:56.483922",
     "status": "completed"
    },
    "tags": []
   },
   "outputs": [
    {
     "name": "stderr",
     "output_type": "stream",
     "text": [
      "[nltk_data] Downloading package stopwords to\n",
      "[nltk_data]     C:\\Users\\raush\\AppData\\Roaming\\nltk_data...\n",
      "[nltk_data]   Package stopwords is already up-to-date!\n",
      "[nltk_data] Downloading package punkt to\n",
      "[nltk_data]     C:\\Users\\raush\\AppData\\Roaming\\nltk_data...\n",
      "[nltk_data]   Package punkt is already up-to-date!\n"
     ]
    }
   ],
   "source": [
    "stop_words=stopwords.words(\"english\")\n",
    "import string\n",
    "import nltk\n",
    "\n",
    "# nltk.download('stopwords')\n",
    "# nltk.download('punkt') \n",
    "# maybe need to download punkt and stopwords if not downloaded before\n",
    "\n",
    "def text_preprocessing(text):\n",
    "    # Convert text to lowercase\n",
    "    text = text.lower()\n",
    "    # Remove email addresses\n",
    "    text = re.sub(r'\\S*@\\S*\\s?', '', text)\n",
    "    # Remove URLs\n",
    "    text = re.sub(r'http\\S+', '', text)\n",
    "    # Remove special characters and numbers\n",
    "    text = re.sub(r'[^a-zA-Z]', ' ', text)\n",
    "    # Remove punctuation\n",
    "    text = \"\".join([char for char in text if char not in string.punctuation])\n",
    "    # Tokenize text\n",
    "    words = word_tokenize(text)\n",
    "    # Remove stopwords\n",
    "    text = \" \".join([word for word in words if word not in stop_words and len(word) > 2])\n",
    "    # Remove multiple spaces\n",
    "    text = re.sub(r'\\s+', ' ', text).strip()\n",
    "    return text\n",
    "train_data['clean_description']=train_data['Description'].apply(text_preprocessing)    \n",
    "test_data['clean_description']=test_data['Description'].apply(text_preprocessing)    "
   ]
  },
  {
   "cell_type": "code",
   "execution_count": 30,
   "id": "2675372b",
   "metadata": {
    "papermill": {
     "duration": 0.0313,
     "end_time": "2024-07-29T18:15:40.217429",
     "exception": false,
     "start_time": "2024-07-29T18:15:40.186129",
     "status": "completed"
    },
    "tags": []
   },
   "outputs": [
    {
     "data": {
      "text/html": [
       "<div>\n",
       "<style scoped>\n",
       "    .dataframe tbody tr th:only-of-type {\n",
       "        vertical-align: middle;\n",
       "    }\n",
       "\n",
       "    .dataframe tbody tr th {\n",
       "        vertical-align: top;\n",
       "    }\n",
       "\n",
       "    .dataframe thead th {\n",
       "        text-align: right;\n",
       "    }\n",
       "</style>\n",
       "<table border=\"1\" class=\"dataframe\">\n",
       "  <thead>\n",
       "    <tr style=\"text-align: right;\">\n",
       "      <th></th>\n",
       "      <th>Movie_name</th>\n",
       "      <th>Gener</th>\n",
       "      <th>Description</th>\n",
       "      <th>clean_description</th>\n",
       "    </tr>\n",
       "  </thead>\n",
       "  <tbody>\n",
       "    <tr>\n",
       "      <th>1</th>\n",
       "      <td>Oscar et la dame rose (2009)</td>\n",
       "      <td>drama</td>\n",
       "      <td>Listening in to a conversation between his do...</td>\n",
       "      <td>listening conversation doctor parents year old...</td>\n",
       "    </tr>\n",
       "    <tr>\n",
       "      <th>2</th>\n",
       "      <td>Cupid (1997)</td>\n",
       "      <td>thriller</td>\n",
       "      <td>A brother and sister with a past incestuous r...</td>\n",
       "      <td>brother sister past incestuous relationship cu...</td>\n",
       "    </tr>\n",
       "    <tr>\n",
       "      <th>3</th>\n",
       "      <td>Young, Wild and Wonderful (1980)</td>\n",
       "      <td>adult</td>\n",
       "      <td>As the bus empties the students for their fie...</td>\n",
       "      <td>bus empties students field trip museum natural...</td>\n",
       "    </tr>\n",
       "    <tr>\n",
       "      <th>4</th>\n",
       "      <td>The Secret Sin (1915)</td>\n",
       "      <td>drama</td>\n",
       "      <td>To help their unemployed father make ends mee...</td>\n",
       "      <td>help unemployed father make ends meet edith tw...</td>\n",
       "    </tr>\n",
       "    <tr>\n",
       "      <th>5</th>\n",
       "      <td>The Unrecovered (2007)</td>\n",
       "      <td>drama</td>\n",
       "      <td>The film's title refers not only to the un-re...</td>\n",
       "      <td>film title refers recovered bodies ground zero...</td>\n",
       "    </tr>\n",
       "  </tbody>\n",
       "</table>\n",
       "</div>"
      ],
      "text/plain": [
       "                           Movie_name       Gener  \\\n",
       "1       Oscar et la dame rose (2009)       drama    \n",
       "2                       Cupid (1997)    thriller    \n",
       "3   Young, Wild and Wonderful (1980)       adult    \n",
       "4              The Secret Sin (1915)       drama    \n",
       "5             The Unrecovered (2007)       drama    \n",
       "\n",
       "                                         Description  \\\n",
       "1   Listening in to a conversation between his do...   \n",
       "2   A brother and sister with a past incestuous r...   \n",
       "3   As the bus empties the students for their fie...   \n",
       "4   To help their unemployed father make ends mee...   \n",
       "5   The film's title refers not only to the un-re...   \n",
       "\n",
       "                                   clean_description  \n",
       "1  listening conversation doctor parents year old...  \n",
       "2  brother sister past incestuous relationship cu...  \n",
       "3  bus empties students field trip museum natural...  \n",
       "4  help unemployed father make ends meet edith tw...  \n",
       "5  film title refers recovered bodies ground zero...  "
      ]
     },
     "execution_count": 30,
     "metadata": {},
     "output_type": "execute_result"
    }
   ],
   "source": [
    "test_data.head()"
   ]
  },
  {
   "cell_type": "code",
   "execution_count": 31,
   "id": "638250fb",
   "metadata": {
    "papermill": {
     "duration": 9.773609,
     "end_time": "2024-07-29T18:15:50.001279",
     "exception": false,
     "start_time": "2024-07-29T18:15:40.227670",
     "status": "completed"
    },
    "tags": []
   },
   "outputs": [],
   "source": [
    "vect=TfidfVectorizer()\n",
    "x_train=vect.fit_transform(train_data['clean_description'])\n",
    "x_test=vect.transform(test_data['clean_description'])\n"
   ]
  },
  {
   "cell_type": "code",
   "execution_count": 32,
   "id": "aca6845b",
   "metadata": {
    "papermill": {
     "duration": 0.041644,
     "end_time": "2024-07-29T18:15:50.053375",
     "exception": false,
     "start_time": "2024-07-29T18:15:50.011731",
     "status": "completed"
    },
    "tags": []
   },
   "outputs": [],
   "source": [
    "x=x_train\n",
    "y=train_data['Gener']\n",
    "x_train,x_test,y_train,y_test=train_test_split(x,y,test_size=0.2,random_state=42)\n"
   ]
  },
  {
   "cell_type": "code",
   "execution_count": null,
   "id": "7e7edd8a",
   "metadata": {
    "papermill": {
     "duration": 4711.025558,
     "end_time": "2024-07-29T19:34:21.089877",
     "exception": false,
     "start_time": "2024-07-29T18:15:50.064319",
     "status": "completed"
    },
    "tags": []
   },
   "outputs": [],
   "source": [
    "model = SVC() \n",
    "model.fit(x_train, y_train)"
   ]
  },
  {
   "cell_type": "code",
   "execution_count": null,
   "id": "3135d8d7",
   "metadata": {
    "papermill": {
     "duration": 1198.566095,
     "end_time": "2024-07-29T19:54:19.666543",
     "exception": false,
     "start_time": "2024-07-29T19:34:21.100448",
     "status": "completed"
    },
    "tags": []
   },
   "outputs": [],
   "source": [
    "model.score(x_train, y_train) "
   ]
  },
  {
   "cell_type": "code",
   "execution_count": null,
   "id": "60ee24a4",
   "metadata": {
    "papermill": {
     "duration": 299.470113,
     "end_time": "2024-07-29T19:59:19.147540",
     "exception": false,
     "start_time": "2024-07-29T19:54:19.677427",
     "status": "completed"
    },
    "tags": []
   },
   "outputs": [],
   "source": [
    "y_pred=model.predict(x_test)"
   ]
  },
  {
   "cell_type": "code",
   "execution_count": null,
   "id": "cebe0ed8",
   "metadata": {
    "papermill": {
     "duration": 0.044453,
     "end_time": "2024-07-29T19:59:19.203184",
     "exception": false,
     "start_time": "2024-07-29T19:59:19.158731",
     "status": "completed"
    },
    "tags": []
   },
   "outputs": [],
   "source": [
    "accuracy = accuracy_score(y_test, y_pred)\n",
    "print(\"Validation Accuracy:\", accuracy)"
   ]
  }
 ],
 "metadata": {
  "kaggle": {
   "accelerator": "none",
   "dataSources": [
    {
     "datasetId": 1417162,
     "sourceId": 2347441,
     "sourceType": "datasetVersion"
    }
   ],
   "dockerImageVersionId": 30746,
   "isGpuEnabled": false,
   "isInternetEnabled": true,
   "language": "python",
   "sourceType": "notebook"
  },
  "kernelspec": {
   "display_name": "Python 3 (ipykernel)",
   "language": "python",
   "name": "python3"
  },
  "language_info": {
   "codemirror_mode": {
    "name": "ipython",
    "version": 3
   },
   "file_extension": ".py",
   "mimetype": "text/x-python",
   "name": "python",
   "nbconvert_exporter": "python",
   "pygments_lexer": "ipython3",
   "version": "3.11.7"
  },
  "papermill": {
   "default_parameters": {},
   "duration": 6394.252031,
   "end_time": "2024-07-29T19:59:20.153081",
   "environment_variables": {},
   "exception": null,
   "input_path": "__notebook__.ipynb",
   "output_path": "__notebook__.ipynb",
   "parameters": {},
   "start_time": "2024-07-29T18:12:45.901050",
   "version": "2.5.0"
  }
 },
 "nbformat": 4,
 "nbformat_minor": 5
}
